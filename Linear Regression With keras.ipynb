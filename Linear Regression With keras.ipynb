{
 "cells": [
  {
   "cell_type": "code",
   "execution_count": 1,
   "metadata": {},
   "outputs": [
    {
     "name": "stderr",
     "output_type": "stream",
     "text": [
      "C:\\Users\\MAJID\\Anaconda3\\lib\\site-packages\\h5py\\__init__.py:36: FutureWarning: Conversion of the second argument of issubdtype from `float` to `np.floating` is deprecated. In future, it will be treated as `np.float64 == np.dtype(float).type`.\n",
      "  from ._conv import register_converters as _register_converters\n",
      "Using TensorFlow backend.\n"
     ]
    }
   ],
   "source": [
    "from keras.models import Sequential\n",
    "from keras.layers import Dense \n",
    "from keras.optimizers import Adam, SGD\n",
    "\n",
    "%matplotlib inline\n",
    "import matplotlib.pyplot as plt\n",
    "import numpy as np\n",
    "import pandas as pd"
   ]
  },
  {
   "cell_type": "code",
   "execution_count": 2,
   "metadata": {},
   "outputs": [],
   "source": [
    "df=pd.read_csv('weight-height.csv')"
   ]
  },
  {
   "cell_type": "code",
   "execution_count": 3,
   "metadata": {},
   "outputs": [],
   "source": [
    "X=df[['Height']].values\n",
    "y_true=df[['Weight']].values"
   ]
  },
  {
   "cell_type": "code",
   "execution_count": 5,
   "metadata": {},
   "outputs": [
    {
     "data": {
      "text/plain": [
       "array([[73.84701702],\n",
       "       [68.78190405],\n",
       "       [74.11010539],\n",
       "       ...,\n",
       "       [63.86799221],\n",
       "       [69.03424313],\n",
       "       [61.94424588]])"
      ]
     },
     "execution_count": 5,
     "metadata": {},
     "output_type": "execute_result"
    }
   ],
   "source": [
    "X"
   ]
  },
  {
   "cell_type": "code",
   "execution_count": 6,
   "metadata": {},
   "outputs": [],
   "source": [
    "\n",
    "model  =  Sequential ()\n",
    "model.add(Dense(1, input_shape=(1,)))"
   ]
  },
  {
   "cell_type": "code",
   "execution_count": 7,
   "metadata": {},
   "outputs": [
    {
     "name": "stdout",
     "output_type": "stream",
     "text": [
      "_________________________________________________________________\n",
      "Layer (type)                 Output Shape              Param #   \n",
      "=================================================================\n",
      "dense_1 (Dense)              (None, 1)                 2         \n",
      "=================================================================\n",
      "Total params: 2\n",
      "Trainable params: 2\n",
      "Non-trainable params: 0\n",
      "_________________________________________________________________\n"
     ]
    }
   ],
   "source": [
    "model.summary()"
   ]
  },
  {
   "cell_type": "code",
   "execution_count": 18,
   "metadata": {},
   "outputs": [],
   "source": [
    "model.compile(Adam(lr=0.1), 'mean_squared_error')"
   ]
  },
  {
   "cell_type": "code",
   "execution_count": 19,
   "metadata": {},
   "outputs": [
    {
     "name": "stdout",
     "output_type": "stream",
     "text": [
      "Epoch 1/40\n",
      "10000/10000 [==============================] - 1s 124us/step - loss: 155.7798\n",
      "Epoch 2/40\n",
      "10000/10000 [==============================] - 0s 32us/step - loss: 153.8766\n",
      "Epoch 3/40\n",
      "10000/10000 [==============================] - 0s 32us/step - loss: 155.6105\n",
      "Epoch 4/40\n",
      "10000/10000 [==============================] - 0s 32us/step - loss: 154.8675\n",
      "Epoch 5/40\n",
      "10000/10000 [==============================] - 0s 32us/step - loss: 154.1298\n",
      "Epoch 6/40\n",
      "10000/10000 [==============================] - 0s 31us/step - loss: 153.8115\n",
      "Epoch 7/40\n",
      "10000/10000 [==============================] - 0s 32us/step - loss: 156.1253\n",
      "Epoch 8/40\n",
      "10000/10000 [==============================] - 0s 31us/step - loss: 152.9590\n",
      "Epoch 9/40\n",
      "10000/10000 [==============================] - 0s 32us/step - loss: 154.2780\n",
      "Epoch 10/40\n",
      "10000/10000 [==============================] - 0s 36us/step - loss: 154.0715\n",
      "Epoch 11/40\n",
      "10000/10000 [==============================] - 0s 39us/step - loss: 153.6369\n",
      "Epoch 12/40\n",
      "10000/10000 [==============================] - 0s 39us/step - loss: 154.7091\n",
      "Epoch 13/40\n",
      "10000/10000 [==============================] - 0s 38us/step - loss: 154.3140\n",
      "Epoch 14/40\n",
      "10000/10000 [==============================] - 0s 34us/step - loss: 152.8219\n",
      "Epoch 15/40\n",
      "10000/10000 [==============================] - 0s 39us/step - loss: 153.8862\n",
      "Epoch 16/40\n",
      "10000/10000 [==============================] - 0s 40us/step - loss: 155.2009\n",
      "Epoch 17/40\n",
      "10000/10000 [==============================] - 0s 37us/step - loss: 155.4920\n",
      "Epoch 18/40\n",
      "10000/10000 [==============================] - 0s 38us/step - loss: 152.8574\n",
      "Epoch 19/40\n",
      "10000/10000 [==============================] - 0s 39us/step - loss: 154.0755\n",
      "Epoch 20/40\n",
      "10000/10000 [==============================] - 0s 34us/step - loss: 152.4534\n",
      "Epoch 21/40\n",
      "10000/10000 [==============================] - 0s 39us/step - loss: 153.1608\n",
      "Epoch 22/40\n",
      "10000/10000 [==============================] - 0s 39us/step - loss: 154.4798\n",
      "Epoch 23/40\n",
      "10000/10000 [==============================] - 0s 35us/step - loss: 156.3225\n",
      "Epoch 24/40\n",
      "10000/10000 [==============================] - 0s 40us/step - loss: 154.3890\n",
      "Epoch 25/40\n",
      "10000/10000 [==============================] - 0s 34us/step - loss: 154.7430\n",
      "Epoch 26/40\n",
      "10000/10000 [==============================] - 0s 40us/step - loss: 153.9500\n",
      "Epoch 27/40\n",
      "10000/10000 [==============================] - 0s 35us/step - loss: 155.2968\n",
      "Epoch 28/40\n",
      "10000/10000 [==============================] - 0s 40us/step - loss: 153.2750\n",
      "Epoch 29/40\n",
      "10000/10000 [==============================] - 0s 39us/step - loss: 154.7071\n",
      "Epoch 30/40\n",
      "10000/10000 [==============================] - 0s 35us/step - loss: 152.4315\n",
      "Epoch 31/40\n",
      "10000/10000 [==============================] - 0s 42us/step - loss: 152.7812\n",
      "Epoch 32/40\n",
      "10000/10000 [==============================] - 0s 34us/step - loss: 154.3320\n",
      "Epoch 33/40\n",
      "10000/10000 [==============================] - 0s 41us/step - loss: 156.3173\n",
      "Epoch 34/40\n",
      "10000/10000 [==============================] - 0s 39us/step - loss: 153.4636\n",
      "Epoch 35/40\n",
      "10000/10000 [==============================] - 0s 37us/step - loss: 154.6687\n",
      "Epoch 36/40\n",
      "10000/10000 [==============================] - 0s 40us/step - loss: 153.3356\n",
      "Epoch 37/40\n",
      "10000/10000 [==============================] - 0s 39us/step - loss: 155.0139\n",
      "Epoch 38/40\n",
      "10000/10000 [==============================] - 0s 36us/step - loss: 156.3790\n",
      "Epoch 39/40\n",
      "10000/10000 [==============================] - 0s 38us/step - loss: 154.9506\n",
      "Epoch 40/40\n",
      "10000/10000 [==============================] - 0s 39us/step - loss: 153.4092\n"
     ]
    },
    {
     "data": {
      "text/plain": [
       "<keras.callbacks.History at 0x1bf93944c50>"
      ]
     },
     "execution_count": 19,
     "metadata": {},
     "output_type": "execute_result"
    }
   ],
   "source": [
    "model.fit(X,y_true, epochs=40)"
   ]
  },
  {
   "cell_type": "markdown",
   "metadata": {},
   "source": []
  },
  {
   "cell_type": "code",
   "execution_count": 20,
   "metadata": {},
   "outputs": [],
   "source": [
    "\n",
    "y_pred=model.predict(X)"
   ]
  },
  {
   "cell_type": "code",
   "execution_count": 25,
   "metadata": {},
   "outputs": [
    {
     "data": {
      "text/plain": [
       "[<matplotlib.lines.Line2D at 0x1bf939cbf28>]"
      ]
     },
     "execution_count": 25,
     "metadata": {},
     "output_type": "execute_result"
    },
    {
     "data": {
      "image/png": "[encoded data removed]",
      "text/plain": [
       "<Figure size 432x288 with 1 Axes>"
      ]
     },
     "metadata": {},
     "output_type": "display_data"
    }
   ],
   "source": [
    "df.plot(kind='scatter',\n",
    "       x='Height',\n",
    "       y='Weight', title='Weight and Height in adults')\n",
    "plt.plot(X, y_pred, c='r', linewidth=3)"
   ]
  },
  {
   "cell_type": "code",
   "execution_count": 22,
   "metadata": {},
   "outputs": [],
   "source": [
    "\n",
    "w,b=model.get_weights ()"
   ]
  },
  {
   "cell_type": "code",
   "execution_count": 23,
   "metadata": {},
   "outputs": [
    {
     "data": {
      "text/plain": [
       "array([[7.7335687]], dtype=float32)"
      ]
     },
     "execution_count": 23,
     "metadata": {},
     "output_type": "execute_result"
    }
   ],
   "source": [
    "w"
   ]
  },
  {
   "cell_type": "code",
   "execution_count": 24,
   "metadata": {},
   "outputs": [
    {
     "data": {
      "text/plain": [
       "array([-350.71405], dtype=float32)"
      ]
     },
     "execution_count": 24,
     "metadata": {},
     "output_type": "execute_result"
    }
   ],
   "source": [
    "b"
   ]
  },
  {
   "cell_type": "code",
   "execution_count": null,
   "metadata": {},
   "outputs": [],
   "source": []
  }
 ],
 "metadata": {
  "kernelspec": {
   "display_name": "Python 3",
   "language": "python",
   "name": "python3"
  },
  "language_info": {
   "codemirror_mode": {
    "name": "ipython",
    "version": 3
   },
   "file_extension": ".py",
   "mimetype": "text/x-python",
   "name": "python",
   "nbconvert_exporter": "python",
   "pygments_lexer": "ipython3",
   "version": "3.6.5"
  }
 },
 "nbformat": 4,
 "nbformat_minor": 2
}
