{
 "cells": [
  {
   "cell_type": "code",
   "execution_count": 45,
   "metadata": {
    "scrolled": true
   },
   "outputs": [],
   "source": [
    "\n",
    "from  keras.models  import Sequential\n",
    "from keras.layers import Dense \n",
    "from keras.optimizers import Adam, SGD\n",
    "\n",
    "%matplotlib inline\n",
    "import matplotlib.pyplot as plt\n",
    "import numpy as np\n",
    "import pandas as pd"
   ]
  },
  {
   "cell_type": "code",
   "execution_count": 46,
   "metadata": {},
   "outputs": [],
   "source": [
    "file = pd.read_csv('pulsar_stars.csv', error_bad_lines=False)"
   ]
  },
  {
   "cell_type": "code",
   "execution_count": 47,
   "metadata": {},
   "outputs": [],
   "source": [
    "A=file[[' Mean of the integrated profile']].values\n",
    "B=file[[' Standard deviation of the integrated profile']].values\n",
    "C=file[[' Excess kurtosis of the integrated profile']].values\n",
    "D=file[[' Skewness of the integrated profile']].values\n",
    "E=file[[' Mean of the DM-SNR curve']].values\n",
    "F=file[[' Standard deviation of the DM-SNR curve']].values\n",
    "G=file[[' Excess kurtosis of the DM-SNR curve']].values\n",
    "H=file[[' Skewness of the DM-SNR curve']].values\n",
    "I=file[['target_class']].values"
   ]
  },
  {
   "cell_type": "code",
   "execution_count": 48,
   "metadata": {},
   "outputs": [
    {
     "data": {
      "text/plain": [
       "array([[140.5625   ],\n",
       "       [102.5078125],\n",
       "       [103.015625 ],\n",
       "       ...,\n",
       "       [119.3359375],\n",
       "       [114.5078125],\n",
       "       [ 57.0625   ]])"
      ]
     },
     "execution_count": 48,
     "metadata": {},
     "output_type": "execute_result"
    }
   ],
   "source": [
    "A"
   ]
  },
  {
   "cell_type": "code",
   "execution_count": 49,
   "metadata": {},
   "outputs": [
    {
     "data": {
      "text/plain": [
       "array([[55.68378214],\n",
       "       [58.88243001],\n",
       "       [39.34164944],\n",
       "       ...,\n",
       "       [59.93593941],\n",
       "       [53.90239966],\n",
       "       [85.79734025]])"
      ]
     },
     "execution_count": 49,
     "metadata": {},
     "output_type": "execute_result"
    }
   ],
   "source": [
    "B"
   ]
  },
  {
   "cell_type": "code",
   "execution_count": 50,
   "metadata": {},
   "outputs": [
    {
     "data": {
      "text/plain": [
       "array([[-0.23457141],\n",
       "       [ 0.46531815],\n",
       "       [ 0.32332837],\n",
       "       ...,\n",
       "       [ 0.1593631 ],\n",
       "       [ 0.20116138],\n",
       "       [ 1.40639105]])"
      ]
     },
     "execution_count": 50,
     "metadata": {},
     "output_type": "execute_result"
    }
   ],
   "source": [
    "C"
   ]
  },
  {
   "cell_type": "code",
   "execution_count": 51,
   "metadata": {},
   "outputs": [
    {
     "data": {
      "text/plain": [
       "array([[-0.6996484 ],\n",
       "       [-0.51508791],\n",
       "       [ 1.05116443],\n",
       "       ...,\n",
       "       [-0.7430254 ],\n",
       "       [-0.02478884],\n",
       "       [ 0.08951971]])"
      ]
     },
     "execution_count": 51,
     "metadata": {},
     "output_type": "execute_result"
    }
   ],
   "source": [
    "D"
   ]
  },
  {
   "cell_type": "code",
   "execution_count": 52,
   "metadata": {},
   "outputs": [
    {
     "data": {
      "text/plain": [
       "array([[  3.19983278],\n",
       "       [  1.67725752],\n",
       "       [  3.12123746],\n",
       "       ...,\n",
       "       [ 21.43060201],\n",
       "       [  1.94648829],\n",
       "       [188.3060201 ]])"
      ]
     },
     "execution_count": 52,
     "metadata": {},
     "output_type": "execute_result"
    }
   ],
   "source": [
    "E"
   ]
  },
  {
   "cell_type": "code",
   "execution_count": 53,
   "metadata": {},
   "outputs": [
    {
     "data": {
      "text/plain": [
       "array([[19.11042633],\n",
       "       [14.86014572],\n",
       "       [21.74466875],\n",
       "       ...,\n",
       "       [58.8720002 ],\n",
       "       [13.38173065],\n",
       "       [64.71256228]])"
      ]
     },
     "execution_count": 53,
     "metadata": {},
     "output_type": "execute_result"
    }
   ],
   "source": [
    "F"
   ]
  },
  {
   "cell_type": "code",
   "execution_count": 54,
   "metadata": {},
   "outputs": [
    {
     "data": {
      "text/plain": [
       "array([[ 7.97553179],\n",
       "       [10.57648674],\n",
       "       [ 7.73582202],\n",
       "       ...,\n",
       "       [ 2.49951714],\n",
       "       [10.00796731],\n",
       "       [-1.59752658]])"
      ]
     },
     "execution_count": 54,
     "metadata": {},
     "output_type": "execute_result"
    }
   ],
   "source": [
    "G"
   ]
  },
  {
   "cell_type": "code",
   "execution_count": 55,
   "metadata": {},
   "outputs": [
    {
     "data": {
      "text/plain": [
       "array([[ 74.24222492],\n",
       "       [127.3935796 ],\n",
       "       [ 63.17190911],\n",
       "       ...,\n",
       "       [  4.59517265],\n",
       "       [134.2389095 ],\n",
       "       [  1.42947536]])"
      ]
     },
     "execution_count": 55,
     "metadata": {},
     "output_type": "execute_result"
    }
   ],
   "source": [
    "H"
   ]
  },
  {
   "cell_type": "code",
   "execution_count": 56,
   "metadata": {},
   "outputs": [
    {
     "data": {
      "text/plain": [
       "array([[0],\n",
       "       [0],\n",
       "       [0],\n",
       "       ...,\n",
       "       [0],\n",
       "       [0],\n",
       "       [0]], dtype=int64)"
      ]
     },
     "execution_count": 56,
     "metadata": {},
     "output_type": "execute_result"
    }
   ],
   "source": [
    "I"
   ]
  },
  {
   "cell_type": "code",
   "execution_count": 58,
   "metadata": {},
   "outputs": [],
   "source": [
    "model = Sequential()\n",
    "model.add(Dense(1, input_shape=(1,)))"
   ]
  },
  {
   "cell_type": "code",
   "execution_count": 59,
   "metadata": {},
   "outputs": [
    {
     "name": "stdout",
     "output_type": "stream",
     "text": [
      "_________________________________________________________________\n",
      "Layer (type)                 Output Shape              Param #   \n",
      "=================================================================\n",
      "dense_1 (Dense)              (None, 1)                 2         \n",
      "=================================================================\n",
      "Total params: 2\n",
      "Trainable params: 2\n",
      "Non-trainable params: 0\n",
      "_________________________________________________________________\n"
     ]
    }
   ],
   "source": [
    "model.summary()"
   ]
  },
  {
   "cell_type": "code",
   "execution_count": 65,
   "metadata": {},
   "outputs": [],
   "source": [
    "model.compile(Adam(lr=0.1),'mean_squared_error')"
   ]
  },
  {
   "cell_type": "code",
   "execution_count": 66,
   "metadata": {},
   "outputs": [
    {
     "name": "stdout",
     "output_type": "stream",
     "text": [
      "Epoch 1/20\n",
      "17898/17898 [==============================] - 3s 144us/step - loss: 0.8918\n",
      "Epoch 2/20\n",
      "17898/17898 [==============================] - 1s 61us/step - loss: 0.0716\n",
      "Epoch 3/20\n",
      "17898/17898 [==============================] - 1s 54us/step - loss: 0.0930\n",
      "Epoch 4/20\n",
      "17898/17898 [==============================] - 1s 51us/step - loss: 0.2036\n",
      "Epoch 5/20\n",
      "17898/17898 [==============================] - 1s 51us/step - loss: 0.1889\n",
      "Epoch 6/20\n",
      "17898/17898 [==============================] - 1s 55us/step - loss: 0.1834\n",
      "Epoch 7/20\n",
      "17898/17898 [==============================] - 1s 51us/step - loss: 0.1789\n",
      "Epoch 8/20\n",
      "17898/17898 [==============================] - 1s 51us/step - loss: 0.1716\n",
      "Epoch 9/20\n",
      "17898/17898 [==============================] - 1s 52us/step - loss: 0.1479\n",
      "Epoch 10/20\n",
      "17898/17898 [==============================] - 1s 55us/step - loss: 0.2267\n",
      "Epoch 11/20\n",
      "17898/17898 [==============================] - 1s 53us/step - loss: 0.1992\n",
      "Epoch 12/20\n",
      "17898/17898 [==============================] - 1s 51us/step - loss: 0.1718: 0s - l\n",
      "Epoch 13/20\n",
      "17898/17898 [==============================] - 1s 51us/step - loss: 0.1366\n",
      "Epoch 14/20\n",
      "17898/17898 [==============================] - 1s 64us/step - loss: 0.1789\n",
      "Epoch 15/20\n",
      "17898/17898 [==============================] - 1s 51us/step - loss: 0.1981\n",
      "Epoch 16/20\n",
      "17898/17898 [==============================] - 1s 51us/step - loss: 0.1543\n",
      "Epoch 17/20\n",
      "17898/17898 [==============================] - 1s 52us/step - loss: 0.2040\n",
      "Epoch 18/20\n",
      "17898/17898 [==============================] - 1s 51us/step - loss: 0.1575\n",
      "Epoch 19/20\n",
      "17898/17898 [==============================] - 1s 50us/step - loss: 0.1984\n",
      "Epoch 20/20\n",
      "17898/17898 [==============================] - 1s 51us/step - loss: 0.1578\n"
     ]
    },
    {
     "data": {
      "text/plain": [
       "<keras.callbacks.History at 0x1c1dcd0aac8>"
      ]
     },
     "execution_count": 66,
     "metadata": {},
     "output_type": "execute_result"
    }
   ],
   "source": [
    "model.fit(A,I, epochs=20)"
   ]
  },
  {
   "cell_type": "code",
   "execution_count": null,
   "metadata": {},
   "outputs": [],
   "source": []
  }
 ],
 "metadata": {
  "kernelspec": {
   "display_name": "Python 3",
   "language": "python",
   "name": "python3"
  },
  "language_info": {
   "codemirror_mode": {
    "name": "ipython",
    "version": 3
   },
   "file_extension": ".py",
   "mimetype": "text/x-python",
   "name": "python",
   "nbconvert_exporter": "python",
   "pygments_lexer": "ipython3",
   "version": "3.6.5"
  }
 },
 "nbformat": 4,
 "nbformat_minor": 2
}
